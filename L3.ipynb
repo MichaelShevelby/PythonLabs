{
 "cells": [
  {
   "cell_type": "markdown",
   "id": "b2b3f045",
   "metadata": {},
   "source": [
    "Задача 1 Какой месяц"
   ]
  },
  {
   "cell_type": "code",
   "execution_count": 3,
   "id": "258dc086",
   "metadata": {},
   "outputs": [
    {
     "name": "stdout",
     "output_type": "stream",
     "text": [
      "январь\n"
     ]
    }
   ],
   "source": [
    "month=1\n",
    "months = [\"январь\", \"февраль\", \"март\", \"апрель\", \"май\", \"июнь\", \"июль\", \"август\", \"сентябрь\", \"октябрь\", \"ноябрь\", \"декабрь\"]\n",
    "print(months[month-1])"
   ]
  },
  {
   "cell_type": "markdown",
   "id": "0a353404",
   "metadata": {},
   "source": [
    "Задача 2 Наибольший общий делитель"
   ]
  },
  {
   "cell_type": "code",
   "execution_count": 7,
   "id": "8671f6b5",
   "metadata": {},
   "outputs": [
    {
     "name": "stdout",
     "output_type": "stream",
     "text": [
      "4\n"
     ]
    }
   ],
   "source": [
    "a = 600\n",
    "b = 1012\n",
    "max=1\n",
    "for i in range(1, a):\n",
    "    if a%i == 0 and b%i == 0: max = i\n",
    "print(max)"
   ]
  },
  {
   "cell_type": "markdown",
   "id": "b88f04ca",
   "metadata": {},
   "source": [
    "Задача 3 Проверка расширения файла"
   ]
  },
  {
   "cell_type": "code",
   "execution_count": 10,
   "id": "957dd4c4",
   "metadata": {},
   "outputs": [
    {
     "name": "stdout",
     "output_type": "stream",
     "text": [
      "Заканчивается на gif\n"
     ]
    }
   ],
   "source": [
    "file='Моя диссертац.gif'\n",
    "extensions = ['png', 'jpg', 'jpeg', 'gif', 'svg']\n",
    "\n",
    "for ext in extensions:\n",
    "    if file.endswith(ext): print(f'Заканчивается на {ext}')\n"
   ]
  },
  {
   "cell_type": "markdown",
   "id": "543e1d2f",
   "metadata": {},
   "source": [
    "Задача 4 Вискосный Год"
   ]
  },
  {
   "cell_type": "code",
   "execution_count": 12,
   "id": "fa5d381b",
   "metadata": {},
   "outputs": [],
   "source": [
    "year=2022\n",
    "\n",
    "if (year%400 == 0): print(\"Високосный\")\n",
    "if (year%100 == 0): print(\"Невисокосный\")\n",
    "if (year%4 == 0): print(\"Високосный\")"
   ]
  },
  {
   "cell_type": "code",
   "execution_count": null,
   "id": "3322d703",
   "metadata": {},
   "outputs": [],
   "source": []
  }
 ],
 "metadata": {
  "kernelspec": {
   "display_name": "Python 3 (ipykernel)",
   "language": "python",
   "name": "python3"
  },
  "language_info": {
   "codemirror_mode": {
    "name": "ipython",
    "version": 3
   },
   "file_extension": ".py",
   "mimetype": "text/x-python",
   "name": "python",
   "nbconvert_exporter": "python",
   "pygments_lexer": "ipython3",
   "version": "3.11.0"
  }
 },
 "nbformat": 4,
 "nbformat_minor": 5
}
