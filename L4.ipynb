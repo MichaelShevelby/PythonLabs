{
 "cells": [
  {
   "cell_type": "markdown",
   "id": "23b5a259",
   "metadata": {},
   "source": [
    "Напишите функцию, извлекающую корень n-й степени из числа x. По умолчанию def будет извлекать квадратный корень:"
   ]
  },
  {
   "cell_type": "code",
   "execution_count": 1,
   "id": "12c60c5e",
   "metadata": {},
   "outputs": [
    {
     "name": "stdout",
     "output_type": "stream",
     "text": [
      "2.0\n"
     ]
    }
   ],
   "source": [
    "def sqrt(x, n):\n",
    "    return pow(x, 1/n)\n",
    "print(sqrt(4, 2))"
   ]
  },
  {
   "cell_type": "markdown",
   "id": "a7881528",
   "metadata": {},
   "source": [
    "Перепишите ваш код для проверки расширения из прошлого ДЗ в функцию которая принимает список расширений и имя файла"
   ]
  },
  {
   "cell_type": "code",
   "execution_count": 3,
   "id": "8eaf8a3f",
   "metadata": {},
   "outputs": [
    {
     "name": "stdout",
     "output_type": "stream",
     "text": [
      "Заканчивается на gif\n"
     ]
    }
   ],
   "source": [
    "myfile='Моя диссертац.gif'\n",
    "myextensions = ['png', 'jpg', 'jpeg', 'gif', 'svg']\n",
    "\n",
    "def checkExt(file, extensions):\n",
    "    for ext in extensions:\n",
    "        if file.endswith(ext): print(f'Заканчивается на {ext}')\n",
    "\n",
    "checkExt(myfile, myextensions)"
   ]
  },
  {
   "cell_type": "markdown",
   "id": "f3da9333",
   "metadata": {},
   "source": [
    "Слейте воедино три словаря"
   ]
  },
  {
   "cell_type": "code",
   "execution_count": 8,
   "id": "26fb5b58",
   "metadata": {},
   "outputs": [
    {
     "name": "stdout",
     "output_type": "stream",
     "text": [
      "{1: 10, 2: 20, 3: 30, 4: 40, 5: 50, 6: 60}\n"
     ]
    }
   ],
   "source": [
    "dict_a = {1:10, 2:20}\n",
    "dict_b = {3:30, 4:40}\n",
    "dict_c = {5:50, 6:60}\n",
    "\n",
    "dict_a.update(dict_b)\n",
    "dict_a.update(dict_c)\n",
    "\n",
    "print(dict_a)"
   ]
  },
  {
   "cell_type": "markdown",
   "id": "864d1746",
   "metadata": {},
   "source": [
    "Напишите функцию которая будет складывать цифры внутри числа"
   ]
  },
  {
   "cell_type": "code",
   "execution_count": 24,
   "id": "511c709a",
   "metadata": {},
   "outputs": [
    {
     "name": "stdout",
     "output_type": "stream",
     "text": [
      "6\n"
     ]
    }
   ],
   "source": [
    "def sumNumbers(a):\n",
    "    b = 0\n",
    "    for i in set(str(a)):\n",
    "        b = b + int(i)\n",
    "    print(b)\n",
    "\n",
    "sumNumbers(123)"
   ]
  },
  {
   "cell_type": "markdown",
   "id": "92af6d0b",
   "metadata": {},
   "source": [
    "Нужно проверить, все ли числа в последовательности уникальны."
   ]
  },
  {
   "cell_type": "code",
   "execution_count": 33,
   "id": "b429ea12",
   "metadata": {},
   "outputs": [
    {
     "name": "stdout",
     "output_type": "stream",
     "text": [
      "Все ли элементы массива уникальны: False\n"
     ]
    }
   ],
   "source": [
    "numbers=[1, 4, 5, 5]\n",
    "print(\"Все ли элементы массива уникальны:\", len(numbers) == len(set(numbers)))"
   ]
  },
  {
   "cell_type": "markdown",
   "id": "457e277f",
   "metadata": {},
   "source": [
    "Создать функцию, которая просто печатает все элементы заданного ей списка:\n",
    "<br/>НОМЕР J --> ЗНАЧЕНИЕ\n",
    "<br/>НОМЕР K --> ЗНАЧЕНИЕ\n",
    "<br/>J, K — порядковые номера в списке"
   ]
  },
  {
   "cell_type": "code",
   "execution_count": 34,
   "id": "eac1f0be",
   "metadata": {},
   "outputs": [
    {
     "name": "stdout",
     "output_type": "stream",
     "text": [
      "0-->я\n",
      "1-->не\n",
      "2-->в\n",
      "3-->отпуск\n"
     ]
    }
   ],
   "source": [
    "def print_list(my_list):\n",
    "    for i in range(0, len(my_list)):\n",
    "        print(i, my_list[i], sep='-->')\n",
    "\n",
    "print_list([\"я\", \"не\", \"в\", \"отпуск\" ])"
   ]
  },
  {
   "cell_type": "markdown",
   "id": "95a5051d",
   "metadata": {},
   "source": [
    "Создать функцию, которая печатает каждый элемент словарика\n",
    "\n",
    "    КЛЮЧ <> --> ЗНАЧЕНИЕ\n",
    "    КЛЮЧ <> --> ЗНАЧЕНИЕ\n",
    "<br />J, K — ключи словарика"
   ]
  },
  {
   "cell_type": "code",
   "execution_count": 36,
   "id": "0a951038",
   "metadata": {},
   "outputs": [
    {
     "name": "stdout",
     "output_type": "stream",
     "text": [
      "ключ key1 значение 2\n",
      "ключ key3 значение False\n",
      "ключ Приветствие значение Hello\n"
     ]
    }
   ],
   "source": [
    "def print_dict(my_dict):\n",
    "    for a, b in my_dict.items():\n",
    "        print(\"ключ\", a, \"значение\", b)\n",
    "\n",
    "print_dict({\"key1\": 2, \"key3\": False, \"Приветствие\": \"Hello\"})"
   ]
  },
  {
   "cell_type": "markdown",
   "id": "b4268f31",
   "metadata": {},
   "source": [
    "Сделать функцию, которая использует две уже написанные функции следующим образом:\n",
    "\n",
    "если ЗНАЧЕНИЕ это LIST --> вызывается print_list\n",
    "если ЗНАЧЕНИЕ это DICT --> вызывается print_dict\n",
    "во всех других случаях просто выводится ЗНАЧЕНИЕ"
   ]
  },
  {
   "cell_type": "code",
   "execution_count": 47,
   "id": "419dde91",
   "metadata": {},
   "outputs": [
    {
     "name": "stdout",
     "output_type": "stream",
     "text": [
      "ключ key1 значение 1\n",
      "ключ key2 значение [1, 2, 3, 4]\n",
      "ключ key3 значение Hello\n",
      "ключ key4 значение {'ciao': 'Mondo', 'Привет': 'О дивный мир'}\n",
      "0-->1\n",
      "1-->5\n",
      "2-->6\n",
      "1\n"
     ]
    }
   ],
   "source": [
    "def print_overlord(mydict):\n",
    "    if isinstance(mydict, dict):\n",
    "        print_dict(mydict)\n",
    "    elif isinstance(mydict, list):\n",
    "        print_list(mydict)\n",
    "    else:\n",
    "        print(mydict)\n",
    "\n",
    "print_overlord(dict(key1=1,\n",
    "            key2=[1, 2, 3, 4], \n",
    "            key3='Hello', \n",
    "            key4={\"ciao\":\"Mondo\", \"Привет\": \"О дивный мир\"}))\n",
    "print_overlord([1, 5, 6])\n",
    "print_overlord(1)"
   ]
  },
  {
   "cell_type": "markdown",
   "id": "af567a92",
   "metadata": {},
   "source": [
    "Сделать функцию, которая на вход получает фразу и печатает все отдельные слова из этой фразы. Операция разбиения строки на составляющие называется токенизацией, это слово нам ещё пригодится в будущем."
   ]
  },
  {
   "cell_type": "code",
   "execution_count": 56,
   "id": "dcab82cb",
   "metadata": {},
   "outputs": [
    {
     "name": "stdout",
     "output_type": "stream",
     "text": [
      "Тут1\n",
      "фраза2\n",
      "с3\n",
      "пробелами4\n",
      "и5\n",
      "я6\n",
      "хочу7\n",
      "их8\n",
      "распечатать9\n",
      "по10\n",
      "одному11\n",
      "на12\n",
      "строку13\n",
      "и14\n",
      "ещё15\n",
      "посчитать16\n",
      "слова17\n",
      "Количество слов 17\n"
     ]
    }
   ],
   "source": [
    "def word_count(phrase):\n",
    "    a = 0;\n",
    "    for i in phrase.split(\" \"):\n",
    "        a += 1\n",
    "        print(i, a, sep='')\n",
    "    print(\"Количество слов\", len(phrase.split(\" \")))\n",
    "   \n",
    "word_count(\"Тут фраза с пробелами и я хочу их распечатать по одному на строку и ещё посчитать слова\")"
   ]
  },
  {
   "cell_type": "markdown",
   "id": "10dc99d7",
   "metadata": {},
   "source": [
    "Модифицировать функцию из предыдущего задания так, чтобы она считала \"вес\" каждого слова, выводя в процентное соотношение во фразе для каждого слова. Проценты печатать с точностью до 2 знаков после запятой."
   ]
  },
  {
   "cell_type": "code",
   "execution_count": 60,
   "id": "2f214294",
   "metadata": {},
   "outputs": [
    {
     "name": "stdout",
     "output_type": "stream",
     "text": [
      "Тут 3.45%\n",
      "фраза 5.75%\n",
      "с 1.15%\n",
      "пробелами 10.34%\n",
      "и 1.15%\n",
      "я 1.15%\n",
      "хочу 4.6%\n",
      "их 2.3%\n",
      "распечатать 12.64%\n",
      "по 2.3%\n",
      "одному 6.9%\n",
      "на 2.3%\n",
      "строку 6.9%\n",
      "и 1.15%\n",
      "ещё 3.45%\n",
      "посчитать 10.34%\n",
      "слова 5.75%\n"
     ]
    }
   ],
   "source": [
    "def word_count(phrase):\n",
    "    for i in phrase.split(\" \"):\n",
    "        print(i + \" \", round((len(i)*100)/len(phrase), 2), \"%\",  sep='')\n",
    "   \n",
    "word_count(\"Тут фраза с пробелами и я хочу их распечатать по одному на строку и ещё посчитать слова\")"
   ]
  }
 ],
 "metadata": {
  "kernelspec": {
   "display_name": "Python 3 (ipykernel)",
   "language": "python",
   "name": "python3"
  },
  "language_info": {
   "codemirror_mode": {
    "name": "ipython",
    "version": 3
   },
   "file_extension": ".py",
   "mimetype": "text/x-python",
   "name": "python",
   "nbconvert_exporter": "python",
   "pygments_lexer": "ipython3",
   "version": "3.11.0"
  }
 },
 "nbformat": 4,
 "nbformat_minor": 5
}
