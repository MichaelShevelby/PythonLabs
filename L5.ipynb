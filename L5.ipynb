{
 "cells": [
  {
   "cell_type": "markdown",
   "id": "55b8acc0",
   "metadata": {},
   "source": [
    "Средний бал и список отстающих учеников из файла pupils.txt"
   ]
  },
  {
   "cell_type": "code",
   "execution_count": 28,
   "id": "f18871ff",
   "metadata": {},
   "outputs": [
    {
     "name": "stdout",
     "output_type": "stream",
     "text": [
      "Отстающие ученики:\n",
      "Петров И. 3\n",
      "\n",
      "Дмитриев Н. 2\n",
      "\n",
      "Котов Д. 2\n",
      "\n",
      "Бирюкова Н. 1\n",
      "\n",
      "Данилов П. 3\n",
      "\n",
      "Лемонов Ю. 2\n",
      "\n",
      "Средний балл 3.1818181818181817\n"
     ]
    }
   ],
   "source": [
    "f = open('pupils.txt', 'r', encoding=\"utf-8\")\n",
    "sum = 0;\n",
    "amount = 0;\n",
    "print(\"Отстающие ученики:\")\n",
    "for str in f:\n",
    "    amount += 1\n",
    "    sum += int(str.split(\" \")[2])\n",
    "    if int(str.split(\" \")[2]) < 4:\n",
    "        print(str)\n",
    "f.close()\n",
    "print(\"Средний балл\", sum/amount)"
   ]
  },
  {
   "cell_type": "markdown",
   "id": "89dce3e0",
   "metadata": {},
   "source": [
    "Посчитать количество определенных слов в файле subjects.txt"
   ]
  },
  {
   "cell_type": "code",
   "execution_count": 27,
   "id": "3480cd11",
   "metadata": {},
   "outputs": [
    {
     "name": "stdout",
     "output_type": "stream",
     "text": [
      "Лекций: 2\n",
      "Практических: 3\n",
      "Лабораторных: 2\n"
     ]
    }
   ],
   "source": [
    "lec = 0;\n",
    "pract = 0;\n",
    "lab = 0;\n",
    "\n",
    "f = open('subjects.txt', 'r', encoding='utf-8')\n",
    "\n",
    "for str in f:\n",
    "    if \"лекц.\" in str: lec+=1\n",
    "    if \"практ\" in str: pract+=1\n",
    "    if \"лаб\" in str: lab+=1\n",
    "f.close()\n",
    "\n",
    "print('Лекций:', lec)\n",
    "print('Практических:', pract)\n",
    "print('Лабораторных:', lab)"
   ]
  },
  {
   "cell_type": "markdown",
   "id": "b8e436af",
   "metadata": {},
   "source": [
    "Откройте Telegram, найдите @BotFather и начните беседу. Отправьте команду /newbot и следуйте инструкциям.\n",
    "свой токен; адрес Telegram API (https://api.telegram.org/bot); ссылку на документацию. Обязательно сохраните токен, так как это ключ для взаимодействия с ботом.\n",
    "\n",
    "Хранение токена должно быть локальным: ни в коем случае не выгружайте его в общий доступ, например в GitHub-репозиторий ."
   ]
  },
  {
   "attachments": {
    "image.png": {
     "image/png": "[encoded data removed]"
    }
   },
   "cell_type": "markdown",
   "id": "2efb7ee8",
   "metadata": {},
   "source": [
    "![image.png](attachment:image.png)"
   ]
  },
  {
   "cell_type": "markdown",
   "id": "197e533d",
   "metadata": {},
   "source": [
    "Выведите список файлов в указанной директории. например где у вас лежат ваши тетради"
   ]
  },
  {
   "cell_type": "code",
   "execution_count": 31,
   "id": "f81b7eed",
   "metadata": {},
   "outputs": [
    {
     "name": "stdout",
     "output_type": "stream",
     "text": [
      ".ipynb_checkpoints\n",
      "L2.ipynb\n",
      "L3.ipynb\n",
      "L4.ipynb\n",
      "L5.ipynb\n",
      "pupils.txt\n",
      "subjects.txt\n"
     ]
    }
   ],
   "source": [
    "from os import listdir\n",
    "\n",
    "for f in listdir():\n",
    "    print(f)"
   ]
  },
  {
   "cell_type": "markdown",
   "id": "31888571",
   "metadata": {},
   "source": [
    "Напишите программу, которая принимает текст и выводит два слова: наиболее часто встречающееся и самое длинное."
   ]
  },
  {
   "cell_type": "code",
   "execution_count": 39,
   "id": "e0d08090",
   "metadata": {},
   "outputs": [
    {
     "name": "stdout",
     "output_type": "stream",
     "text": [
      "Чаще всего встречается слово И: 5 раз\n",
      "Самое длинное слово храброславленный из 16 символов\n"
     ]
    }
   ],
   "source": [
    "str = \"Варкалось. Хливкие шорьки Пырялись по наве, И хрюкотали зелюки, Как мюмзики в мове. О, бойся Бармаглота, сын! Он так свирлеп и дик! А в глу́ше ры́мит исполин — Злопастный Брандашмыг! Но взял он меч, и взял он щит, Высоких полон дум. В глущобу путь его лежит Под дерево Тумтум. Он стал под дерево и ждёт. И вдруг граахнул гром — Летит ужасный Бармаглот И пылкает огнём! Раз-два, раз-два! Горит трава, Взы-взы — стрижает меч, Ува! Ува! И голова Барабардает с плеч!О светозарный мальчик мой! Ты победил в бою! О храброславленный герой, Хвалу тебе пою! Варкалось. Хливкие шорьки Пырялись по наве. И хрюкотали зелюки, Как мюмзики в мове.\"\n",
    "\n",
    "maxlength = 0\n",
    "maxlengthword = \"\"\n",
    "maxfreq = 0;\n",
    "maxfreqword = \"\";\n",
    "\n",
    "str.replace(\".\", \"\")\n",
    "str.replace(\",\", \"\")\n",
    "str.replace(\"!\", \"\")\n",
    "\n",
    "for s in str.split(\" \"):\n",
    "    locfreq = 0;\n",
    "    for w in str.split(\" \"):\n",
    "        if (s == w): locfreq+= 1\n",
    "    if locfreq > maxfreq: \n",
    "        maxfreq = locfreq\n",
    "        maxfreqword = s\n",
    "    if (len(s) > maxlength):\n",
    "        maxlength = len(s)\n",
    "        maxlengthword = s\n",
    "print(f'Чаще всего встречается слово {maxfreqword}: {maxfreq} раз')\n",
    "print(\"Самое длинное слово \" + maxlengthword + \" из\", maxlength, \"символов\")\n"
   ]
  }
 ],
 "metadata": {
  "kernelspec": {
   "display_name": "Python 3 (ipykernel)",
   "language": "python",
   "name": "python3"
  },
  "language_info": {
   "codemirror_mode": {
    "name": "ipython",
    "version": 3
   },
   "file_extension": ".py",
   "mimetype": "text/x-python",
   "name": "python",
   "nbconvert_exporter": "python",
   "pygments_lexer": "ipython3",
   "version": "3.11.0"
  }
 },
 "nbformat": 4,
 "nbformat_minor": 5
}
