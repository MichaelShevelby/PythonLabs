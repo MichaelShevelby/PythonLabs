{
 "cells": [
  {
   "cell_type": "markdown",
   "id": "05ec36ae",
   "metadata": {},
   "source": [
    "Задача 1. Напишите программу с классом Student, в котором есть три атрибута: name, groupNumber и age. По умолчанию name = Ivan, age = 18, groupNumber = 10A. Необходимо создать пять методов: getName, getAge, getGroupNumber, setNameAge, setGroupNumber. Метод getName нужен для получения данных об имени конкретного студента, метод getAge нужен для получения данных о возрасте конкретного студента, метод setGroupNumberнужен для получения данных о номере группы конкретного студента. Метод SetNameAge позволяет изменить данные атрибутов установленных по умолчанию, метод setGroupNumber позволяет изменить номер группы установленный по умолчанию. В программе необходимо создать пять экземпляров класса Student, установить им разные имена, возраст и номер группы."
   ]
  },
  {
   "cell_type": "code",
   "execution_count": 9,
   "id": "ac6128fb",
   "metadata": {},
   "outputs": [
    {
     "name": "stdout",
     "output_type": "stream",
     "text": [
      "Вася 11 11B\n",
      "Петя 15 11C\n",
      "Макс 12 10C\n",
      "Миша 12 9C\n",
      "Миша 14 10C\n"
     ]
    }
   ],
   "source": [
    "class Student:\n",
    "    def __init__(self, name = \"Ivan\", age = 18, groupNumber = \"10A\"):\n",
    "        self.name = name\n",
    "        self.age = age\n",
    "        self.groupNumber = groupNumber\n",
    "    def getName(self):\n",
    "        return self.name\n",
    "    def getAge(self):\n",
    "        return self.age\n",
    "    def getGroupNumber(self):\n",
    "        return self.groupNumber\n",
    "    def setNameAge(self, name, age):\n",
    "        self.name = name\n",
    "        self.age = age\n",
    "    def setGroupNumber(self, groupNumber):\n",
    "        self.groupNumber = groupNumber\n",
    "vasya = Student()\n",
    "vasya.setNameAge(\"Вася\", 11)\n",
    "vasya.setGroupNumber(\"11B\")\n",
    "\n",
    "petya = Student()\n",
    "petya.setNameAge(\"Петя\", 15)\n",
    "petya.setGroupNumber(\"11C\")\n",
    "\n",
    "maks = Student()\n",
    "maks.setNameAge(\"Макс\", 12)\n",
    "maks.setGroupNumber(\"10C\")\n",
    "\n",
    "mike = Student()\n",
    "mike.setNameAge(\"Миша\", 12)\n",
    "mike.setGroupNumber(\"9C\")\n",
    "\n",
    "dan = Student()\n",
    "dan.setNameAge(\"Миша\", 14)\n",
    "dan.setGroupNumber(\"10C\")\n",
    "\n",
    "print(f'{vasya.getName()} {vasya.getAge()} {vasya.getGroupNumber()}')\n",
    "print(f'{petya.getName()} {petya.getAge()} {petya.getGroupNumber()}')\n",
    "print(f'{maks.getName()} {maks.getAge()} {maks.getGroupNumber()}')\n",
    "print(f'{mike.getName()} {mike.getAge()} {mike.getGroupNumber()}')\n",
    "print(f'{dan.getName()} {dan.getAge()} {dan.getGroupNumber()}')"
   ]
  },
  {
   "cell_type": "markdown",
   "id": "95057b13",
   "metadata": {},
   "source": [
    "Задача 2. Напишите программу с классом Car. Создайте конструктор класса Car. Создайте атрибуты класса Car — color (цвет), type (тип), year (год). Напишите пять методов. Первый — запуск автомобиля, при его вызове выводится сообщение «Автомобиль заведен». Второй — отключение автомобиля — выводит сообщение «Автомобиль заглушен». Третий — присвоение автомобилю года выпуска. Четвертый метод — присвоение автомобилю типа. Пятый — присвоение автомобилю цвета."
   ]
  },
  {
   "cell_type": "code",
   "execution_count": 12,
   "id": "3dd99b66",
   "metadata": {},
   "outputs": [
    {
     "name": "stdout",
     "output_type": "stream",
     "text": [
      "Автомобиль заведен\n"
     ]
    }
   ],
   "source": [
    "class Car:\n",
    "    def __init__(self, color, type, year):\n",
    "        self.color = color\n",
    "        self.type = type\n",
    "        self.year = year\n",
    "    def run(self):\n",
    "        print(\"Автомобиль заведен\")\n",
    "    def stop(self):\n",
    "        print(\"Автомобиль заглушен\")\n",
    "    def setYear(self, year):\n",
    "        self.year = year\n",
    "    def setType(self, type):\n",
    "        self.type = type\n",
    "    def setColor(self, color):\n",
    "        self.color = color\n",
    "car = Car(\"Зеленый\", \"Кроссовер\", 2015)\n",
    "car.run()"
   ]
  }
 ],
 "metadata": {
  "kernelspec": {
   "display_name": "Python 3 (ipykernel)",
   "language": "python",
   "name": "python3"
  },
  "language_info": {
   "codemirror_mode": {
    "name": "ipython",
    "version": 3
   },
   "file_extension": ".py",
   "mimetype": "text/x-python",
   "name": "python",
   "nbconvert_exporter": "python",
   "pygments_lexer": "ipython3",
   "version": "3.11.0"
  }
 },
 "nbformat": 4,
 "nbformat_minor": 5
}
