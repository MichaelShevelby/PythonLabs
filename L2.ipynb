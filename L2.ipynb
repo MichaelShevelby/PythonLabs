{
 "cells": [
  {
   "cell_type": "code",
   "execution_count": 16,
   "id": "92bfd211",
   "metadata": {},
   "outputs": [
    {
     "name": "stdout",
     "output_type": "stream",
     "text": [
      "0 : 2 : 46 : 40\n"
     ]
    }
   ],
   "source": [
    "seconds=10000\n",
    "print(seconds//(60*60*24), \":\" , (seconds//60)//60, \":\", (seconds//60)%60, \":\", seconds%60)"
   ]
  },
  {
   "cell_type": "markdown",
   "id": "7fca6998",
   "metadata": {},
   "source": [
    "2) Напишите калькулятор который запрашивает на входе две переменные и знак, и в соответствии с знаком ( + - * / ) выводит результат"
   ]
  },
  {
   "cell_type": "code",
   "execution_count": 19,
   "id": "a1c91b3a",
   "metadata": {},
   "outputs": [
    {
     "name": "stdout",
     "output_type": "stream",
     "text": [
      "4\n",
      "1\n",
      "+\n",
      "5.0\n"
     ]
    }
   ],
   "source": [
    "a = float(input())\n",
    "b = float(input())\n",
    "sign = input()\n",
    "\n",
    "if (sign == \"+\"): print(a+b)\n",
    "if (sign == \"-\"): print(a-b)\n",
    "if (sign == \"*\"): print(a*b)\n",
    "if (sign == \"/\"): print(a/b)"
   ]
  },
  {
   "cell_type": "markdown",
   "id": "fbb336a3",
   "metadata": {},
   "source": [
    "3)Считайте 2 строки и выведите их на печать, разделив символом $.\n",
    "Попробуйте решить эту задачу как минимум 2 способами:"
   ]
  },
  {
   "cell_type": "code",
   "execution_count": 21,
   "id": "99017b42",
   "metadata": {},
   "outputs": [
    {
     "name": "stdout",
     "output_type": "stream",
     "text": [
      "a\n",
      "b\n",
      "a$b\n",
      "a$b\n"
     ]
    }
   ],
   "source": [
    "a = input()\n",
    "b = input()\n",
    "print(a, b, sep='$')\n",
    "print(f'{a}${b}')"
   ]
  },
  {
   "cell_type": "markdown",
   "id": "75338e1b",
   "metadata": {},
   "source": [
    "4) Напишите поздравление с Днем рождения, где программа считает имя и возраст и выведет поздравление столько раз, сколько лет именнинику"
   ]
  },
  {
   "cell_type": "code",
   "execution_count": 24,
   "id": "dda99660",
   "metadata": {},
   "outputs": [
    {
     "name": "stdout",
     "output_type": "stream",
     "text": [
      "Миша\n",
      "3\n",
      "С днем рождения, Миша\n",
      "С днем рождения, Миша\n",
      "С днем рождения, Миша\n"
     ]
    }
   ],
   "source": [
    "name = input()\n",
    "age = int(input())\n",
    "\n",
    "for i in range(0, age): print('С днем рождения, ' + name)"
   ]
  }
 ],
 "metadata": {
  "kernelspec": {
   "display_name": "Python 3 (ipykernel)",
   "language": "python",
   "name": "python3"
  },
  "language_info": {
   "codemirror_mode": {
    "name": "ipython",
    "version": 3
   },
   "file_extension": ".py",
   "mimetype": "text/x-python",
   "name": "python",
   "nbconvert_exporter": "python",
   "pygments_lexer": "ipython3",
   "version": "3.11.0"
  }
 },
 "nbformat": 4,
 "nbformat_minor": 5
}
